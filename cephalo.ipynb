{
  "cells": [
    {
      "cell_type": "code",
      "execution_count": null,
      "metadata": {
        "id": "ByLtqW0se-Vj"
      },
      "outputs": [],
      "source": [
        "import cv2 \n",
        "import sys\n",
        "import numpy as np\n",
        "import scipy\n",
        "def canny(cvimg):\n",
        "        img_blur = cv2.GaussianBlur(cvimg, (3, ), 0.02)\n",
        "        edges = cv2.Canny(image=img_blur, threshold1=40,\n",
        "                          threshold2=100)  # Canny Edge Detection\n",
        "        return edges"
      ]
    },
    {
      "cell_type": "code",
      "execution_count": null,
      "metadata": {
        "id": "K3RkG2iRfRHP"
      },
      "outputs": [],
      "source": [
        "from google.colab.patches import cv2_imshow\n",
        "trial = cv2.imread(\"/content/drive/MyDrive/variables/033.jpg\") \n",
        "trial_gray= cv2.cvtColor(trial,  cv2.COLOR_BGR2GRAY)\n"
      ]
    },
    {
      "cell_type": "code",
      "execution_count": null,
      "metadata": {
        "colab": {
          "base_uri": "https://localhost:8080/",
          "height": 1000
        },
        "id": "HqOpuPrYZD9I",
        "outputId": "489d18d0-9f4b-49d5-df6a-3bd5e9bd2b76"
      },
      "outputs": [],
      "source": [
        "cv2.circle(trial_gray , (819 , 1084) ,radius=8, color=(255, 0, 255), thickness=-1)\n",
        "cv2_imshow(trial_gray)\n",
        "equ = cv2.equalizeHist(trial_gray)\n"
      ]
    },
    {
      "cell_type": "code",
      "execution_count": null,
      "metadata": {
        "colab": {
          "base_uri": "https://localhost:8080/",
          "height": 1000
        },
        "id": "7y1q-ctCynvc",
        "outputId": "49bad332-b1c7-454e-fa75-7f748e2f5249"
      },
      "outputs": [],
      "source": [
        "cv2_imshow(equ)\n"
      ]
    },
    {
      "cell_type": "code",
      "execution_count": 133,
      "metadata": {
        "colab": {
          "base_uri": "https://localhost:8080/"
        },
        "id": "bpitfVjklDtW",
        "outputId": "eb7788f1-a9c3-4616-c264-43475c5a3461"
      },
      "outputs": [
        {
          "name": "stdout",
          "output_type": "stream",
          "text": [
            "(2400, 1935)\n",
            "0\n",
            "1\n",
            "2\n",
            "3\n",
            "4\n",
            "5\n",
            "6\n",
            "7\n",
            "(2400, 1935)\n"
          ]
        }
      ],
      "source": [
        "trial1 = cv2.cvtColor(cv2.imread(\"/content/drive/MyDrive/data/cepha400/001.jpg\"),cv2.COLOR_BGR2GRAY)\n",
        "equ1 = cv2.equalizeHist(trial1)\n",
        "temp1 = [trial1] \n",
        "\n",
        "trial2 = cv2.cvtColor(cv2.imread(\"/content/drive/MyDrive/data/cepha400/002.jpg\"),cv2.COLOR_BGR2GRAY)\n",
        "equ2 = cv2.equalizeHist(trial2)\n",
        "temp1.append(trial2)\n",
        "\n",
        "trial3 = cv2.cvtColor(cv2.imread(\"/content/drive/MyDrive/data/cepha400/003.jpg\"),cv2.COLOR_BGR2GRAY)\n",
        "equ3 = cv2.equalizeHist(trial3)\n",
        "temp1.append(trial3)\n",
        "\n",
        "\n",
        "trial4 = cv2.cvtColor(cv2.imread(\"/content/drive/MyDrive/data/cepha400/004.jpg\"),cv2.COLOR_BGR2GRAY)\n",
        "equ4 = cv2.equalizeHist(trial4)\n",
        "temp1.append(trial4)\n",
        "\n",
        "\n",
        "\n",
        "trial5 = cv2.cvtColor(cv2.imread(\"/content/drive/MyDrive/data/cepha400/005.jpg\"),cv2.COLOR_BGR2GRAY)\n",
        "equ5 = cv2.equalizeHist(trial5)\n",
        "temp1.append(trial5)\n",
        "\n",
        "\n",
        "\n",
        "trial6 = cv2.cvtColor(cv2.imread(\"/content/drive/MyDrive/data/cepha400/006.jpg\"),cv2.COLOR_BGR2GRAY)\n",
        "equ6 = cv2.equalizeHist(trial6)\n",
        "temp1.append(trial6)\n",
        "\n",
        "\n",
        "\n",
        "trial7 = cv2.cvtColor(cv2.imread(\"/content/drive/MyDrive/data/cepha400/007.jpg\"),cv2.COLOR_BGR2GRAY)\n",
        "equ7 = cv2.equalizeHist(trial7)\n",
        "temp1.append(trial7)\n",
        "\n",
        "\n",
        "\n",
        "trial8 = cv2.cvtColor(cv2.imread(\"/content/drive/MyDrive/data/cepha400/008.jpg\"),cv2.COLOR_BGR2GRAY)\n",
        "equ8 = cv2.equalizeHist(trial8)\n",
        "temp1.append(trial8)\n",
        "\n",
        "temp1 = np.array(temp1)\n",
        "\n",
        "print(temp1[2].shape)\n",
        "avg = np.zeros(temp1[0].shape)\n",
        "for i in range(0,temp1.shape[0]):\n",
        "  print(i)\n",
        "  avg+=temp1[i]\n",
        "avg /=8\n",
        "print(avg.shape)"
      ]
    },
    {
      "cell_type": "code",
      "execution_count": 134,
      "metadata": {
        "id": "ZkJCenyBYw6e"
      },
      "outputs": [],
      "source": [
        "temp_land_1 = avg[990 :1090 ,756:856]\n",
        "temp_land_2 = avg[920 :1020 ,1339:1439 ]\n",
        "temp_land_3 = avg[1175 : 1275 ,1215:1315]\n",
        "temp_land_4 = avg[1172 :1272 ,555:655 ]\n",
        "temp_land_5 = avg[1475 :1575 ,1338:1438 ]\n",
        "temp_land_6 = avg[1789 : 1889 ,1313:1413 ]\n"
      ]
    },
    {
      "cell_type": "code",
      "execution_count": 135,
      "metadata": {
        "colab": {
          "base_uri": "https://localhost:8080/"
        },
        "id": "RQyNs4DZfP5L",
        "outputId": "0bc515aa-a7f5-4b84-970a-eb28d3f61c7a"
      },
      "outputs": [
        {
          "data": {
            "text/plain": [
              "True"
            ]
          },
          "execution_count": 135,
          "metadata": {},
          "output_type": "execute_result"
        }
      ],
      "source": [
        "cv2.imwrite(\"land_1.jpg\", temp_land_1)\n",
        "cv2.imwrite(\"land_2.jpg\", temp_land_2)\n",
        "cv2.imwrite(\"land_3.jpg\", temp_land_3)\n",
        "cv2.imwrite(\"land_4.jpg\", temp_land_4)\n",
        "cv2.imwrite(\"land_5.jpg\", temp_land_5)\n",
        "cv2.imwrite(\"land_5.jpg\", temp_land_5)\n"
      ]
    },
    {
      "cell_type": "code",
      "execution_count": 136,
      "metadata": {
        "colab": {
          "base_uri": "https://localhost:8080/"
        },
        "id": "GsRyvXhbhI3H",
        "outputId": "55960182-7569-482d-e501-99232abec062"
      },
      "outputs": [
        {
          "data": {
            "text/plain": [
              "True"
            ]
          },
          "execution_count": 136,
          "metadata": {},
          "output_type": "execute_result"
        }
      ],
      "source": [
        "cv2.imwrite(\"land_6.jpg\", temp_land_6)\n"
      ]
    },
    {
      "cell_type": "code",
      "execution_count": 137,
      "metadata": {
        "id": "yF7sKreBpr0R"
      },
      "outputs": [],
      "source": [
        "temp_land_7 = avg[  1930:1935 ,1301:1401] ## ؟؟ \n",
        "temp_land_8 = avg[2040-50:2040+50, 1245:1345]## ?? \n",
        "temp_land_9 = avg[2020-50 : 2020+50 , 1333-50:1333+50 ] #?? \n",
        "temp_land_10 = avg[1744-50 :1744+50 , 746-50:746+50 ]\n",
        "temp_land_11= avg[1691-50 :1691+50 , 1420-50:1420+50 ]\n",
        "temp_land_12 = avg[1700-50 : 1700+50 , 1436-50:1436+50 ]\n",
        "temp_land_13 = avg[1620-50 : 1620+50 , 1557-50:1557+50 ]\n",
        "temp_land_14 = avg[1803-50 :1803+50 , 1535-50:1536+50 ]\n",
        "temp_land_15 = avg[1496-50 : 1496+50 , 1495-50:1495+50 ]\n",
        "temp_land_16 = avg[2053-50 :2053+50 , 1426-50:1426+50 ] ##??\n",
        "temp_land_17= avg[1429-50 :1429+50 , 968-50:968+50 ]\n",
        "temp_land_18 = avg[1444-50 : 1444+50 ,1397-50:1397+50]\n",
        "temp_land_19 = avg[1328-50 : 1328+50 ,669-50:669+50]\n"
      ]
    },
    {
      "cell_type": "code",
      "execution_count": null,
      "metadata": {
        "colab": {
          "base_uri": "https://localhost:8080/"
        },
        "id": "Ygzfj1HdpoRB",
        "outputId": "331bfc53-f183-4b43-fbec-082e0eea6e83"
      },
      "outputs": [
        {
          "data": {
            "text/plain": [
              "count     150.000000\n",
              "mean     1980.480000\n",
              "std        88.840383\n",
              "min      1763.000000\n",
              "25%      1921.000000\n",
              "50%      1979.000000\n",
              "75%      2036.000000\n",
              "max      2200.000000\n",
              "Name: 7_y, dtype: float64"
            ]
          },
          "execution_count": 132,
          "metadata": {},
          "output_type": "execute_result"
        }
      ],
      "source": [
        "Df1 = pd.DataFrame(d.describe())\n",
        "Df1[\"7_y\" ]"
      ]
    },
    {
      "cell_type": "code",
      "execution_count": 138,
      "metadata": {
        "colab": {
          "base_uri": "https://localhost:8080/"
        },
        "id": "1QsBylQEuujQ",
        "outputId": "2f14f41c-1245-45b3-d70a-37fde3d35a2e"
      },
      "outputs": [
        {
          "data": {
            "text/plain": [
              "True"
            ]
          },
          "execution_count": 138,
          "metadata": {},
          "output_type": "execute_result"
        }
      ],
      "source": [
        "cv2.imwrite(\"land_7.jpg\", temp_land_7)\n",
        "cv2.imwrite(\"land_8.jpg\", temp_land_8)\n",
        "cv2.imwrite(\"land_9.jpg\", temp_land_9)\n",
        "cv2.imwrite(\"land_10.jpg\", temp_land_10)\n",
        "cv2.imwrite(\"land_11.jpg\", temp_land_11)\n",
        "cv2.imwrite(\"land_12.jpg\", temp_land_12)\n",
        "cv2.imwrite(\"land_13.jpg\", temp_land_13)\n",
        "cv2.imwrite(\"land_14.jpg\", temp_land_14)\n",
        "cv2.imwrite(\"land_15.jpg\", temp_land_15)\n",
        "cv2.imwrite(\"land_16.jpg\", temp_land_16)\n",
        "cv2.imwrite(\"land_17.jpg\", temp_land_17)\n",
        "cv2.imwrite(\"land_18.jpg\", temp_land_18)\n",
        "cv2.imwrite(\"land_19.jpg\", temp_land_19)\n"
      ]
    },
    {
      "cell_type": "code",
      "execution_count": null,
      "metadata": {
        "colab": {
          "base_uri": "https://localhost:8080/",
          "height": 394
        },
        "id": "Lbu5hRLXbkZ-",
        "outputId": "65259141-74de-4c61-e052-5bf67cded24a"
      },
      "outputs": [
        {
          "data": {
            "text/html": [
              "\n",
              "  <div id=\"df-1bcf484a-de9c-4f73-b56c-0800a5862f0b\">\n",
              "    <div class=\"colab-df-container\">\n",
              "      <div>\n",
              "<style scoped>\n",
              "    .dataframe tbody tr th:only-of-type {\n",
              "        vertical-align: middle;\n",
              "    }\n",
              "\n",
              "    .dataframe tbody tr th {\n",
              "        vertical-align: top;\n",
              "    }\n",
              "\n",
              "    .dataframe thead th {\n",
              "        text-align: right;\n",
              "    }\n",
              "</style>\n",
              "<table border=\"1\" class=\"dataframe\">\n",
              "  <thead>\n",
              "    <tr style=\"text-align: right;\">\n",
              "      <th></th>\n",
              "      <th>1_x</th>\n",
              "      <th>1_y</th>\n",
              "      <th>2_x</th>\n",
              "      <th>2_y</th>\n",
              "      <th>3_x</th>\n",
              "      <th>3_y</th>\n",
              "      <th>4_x</th>\n",
              "      <th>4_y</th>\n",
              "      <th>5_x</th>\n",
              "      <th>5_y</th>\n",
              "      <th>...</th>\n",
              "      <th>15_x</th>\n",
              "      <th>15_y</th>\n",
              "      <th>16_x</th>\n",
              "      <th>16_y</th>\n",
              "      <th>17_x</th>\n",
              "      <th>17_y</th>\n",
              "      <th>18_x</th>\n",
              "      <th>18_y</th>\n",
              "      <th>19_x</th>\n",
              "      <th>19_y</th>\n",
              "    </tr>\n",
              "  </thead>\n",
              "  <tbody>\n",
              "    <tr>\n",
              "      <th>count</th>\n",
              "      <td>150.000000</td>\n",
              "      <td>150.000000</td>\n",
              "      <td>150.000000</td>\n",
              "      <td>150.000000</td>\n",
              "      <td>150.000000</td>\n",
              "      <td>150.000000</td>\n",
              "      <td>150.000000</td>\n",
              "      <td>150.000000</td>\n",
              "      <td>150.000000</td>\n",
              "      <td>150.00000</td>\n",
              "      <td>...</td>\n",
              "      <td>150.000000</td>\n",
              "      <td>150.000000</td>\n",
              "      <td>150.000000</td>\n",
              "      <td>150.000000</td>\n",
              "      <td>150.000000</td>\n",
              "      <td>150.000000</td>\n",
              "      <td>150.000000</td>\n",
              "      <td>150.000000</td>\n",
              "      <td>150.000000</td>\n",
              "      <td>150.000000</td>\n",
              "    </tr>\n",
              "    <tr>\n",
              "      <th>mean</th>\n",
              "      <td>806.620000</td>\n",
              "      <td>1040.666667</td>\n",
              "      <td>1389.500000</td>\n",
              "      <td>970.080000</td>\n",
              "      <td>1265.333333</td>\n",
              "      <td>1225.913333</td>\n",
              "      <td>605.106667</td>\n",
              "      <td>1222.773333</td>\n",
              "      <td>1388.153333</td>\n",
              "      <td>1525.34000</td>\n",
              "      <td>...</td>\n",
              "      <td>1495.840000</td>\n",
              "      <td>1496.673333</td>\n",
              "      <td>1426.593333</td>\n",
              "      <td>2053.453333</td>\n",
              "      <td>968.246667</td>\n",
              "      <td>1429.100000</td>\n",
              "      <td>1397.966667</td>\n",
              "      <td>1444.993333</td>\n",
              "      <td>669.806667</td>\n",
              "      <td>1328.546667</td>\n",
              "    </tr>\n",
              "    <tr>\n",
              "      <th>std</th>\n",
              "      <td>45.254637</td>\n",
              "      <td>48.252088</td>\n",
              "      <td>61.929463</td>\n",
              "      <td>70.761109</td>\n",
              "      <td>48.841569</td>\n",
              "      <td>62.747276</td>\n",
              "      <td>37.385018</td>\n",
              "      <td>39.864560</td>\n",
              "      <td>67.234513</td>\n",
              "      <td>70.38712</td>\n",
              "      <td>...</td>\n",
              "      <td>65.885612</td>\n",
              "      <td>79.239548</td>\n",
              "      <td>99.553506</td>\n",
              "      <td>91.408192</td>\n",
              "      <td>46.326669</td>\n",
              "      <td>52.568492</td>\n",
              "      <td>60.893946</td>\n",
              "      <td>74.911715</td>\n",
              "      <td>39.209932</td>\n",
              "      <td>45.256107</td>\n",
              "    </tr>\n",
              "    <tr>\n",
              "      <th>min</th>\n",
              "      <td>705.000000</td>\n",
              "      <td>886.000000</td>\n",
              "      <td>1218.000000</td>\n",
              "      <td>732.000000</td>\n",
              "      <td>1149.000000</td>\n",
              "      <td>1032.000000</td>\n",
              "      <td>514.000000</td>\n",
              "      <td>1136.000000</td>\n",
              "      <td>1241.000000</td>\n",
              "      <td>1328.00000</td>\n",
              "      <td>...</td>\n",
              "      <td>1319.000000</td>\n",
              "      <td>1261.000000</td>\n",
              "      <td>1175.000000</td>\n",
              "      <td>1842.000000</td>\n",
              "      <td>832.000000</td>\n",
              "      <td>1279.000000</td>\n",
              "      <td>1255.000000</td>\n",
              "      <td>1231.000000</td>\n",
              "      <td>571.000000</td>\n",
              "      <td>1212.000000</td>\n",
              "    </tr>\n",
              "    <tr>\n",
              "      <th>25%</th>\n",
              "      <td>773.250000</td>\n",
              "      <td>1011.000000</td>\n",
              "      <td>1348.250000</td>\n",
              "      <td>925.500000</td>\n",
              "      <td>1233.500000</td>\n",
              "      <td>1188.000000</td>\n",
              "      <td>581.250000</td>\n",
              "      <td>1201.250000</td>\n",
              "      <td>1338.250000</td>\n",
              "      <td>1486.50000</td>\n",
              "      <td>...</td>\n",
              "      <td>1453.250000</td>\n",
              "      <td>1446.750000</td>\n",
              "      <td>1363.250000</td>\n",
              "      <td>1997.250000</td>\n",
              "      <td>940.250000</td>\n",
              "      <td>1394.250000</td>\n",
              "      <td>1353.000000</td>\n",
              "      <td>1398.000000</td>\n",
              "      <td>643.000000</td>\n",
              "      <td>1298.000000</td>\n",
              "    </tr>\n",
              "    <tr>\n",
              "      <th>50%</th>\n",
              "      <td>808.500000</td>\n",
              "      <td>1043.000000</td>\n",
              "      <td>1388.000000</td>\n",
              "      <td>971.500000</td>\n",
              "      <td>1264.000000</td>\n",
              "      <td>1222.000000</td>\n",
              "      <td>605.500000</td>\n",
              "      <td>1217.500000</td>\n",
              "      <td>1384.000000</td>\n",
              "      <td>1524.50000</td>\n",
              "      <td>...</td>\n",
              "      <td>1489.000000</td>\n",
              "      <td>1498.000000</td>\n",
              "      <td>1428.500000</td>\n",
              "      <td>2054.000000</td>\n",
              "      <td>966.000000</td>\n",
              "      <td>1430.000000</td>\n",
              "      <td>1390.500000</td>\n",
              "      <td>1446.000000</td>\n",
              "      <td>669.000000</td>\n",
              "      <td>1340.000000</td>\n",
              "    </tr>\n",
              "    <tr>\n",
              "      <th>75%</th>\n",
              "      <td>835.000000</td>\n",
              "      <td>1071.750000</td>\n",
              "      <td>1435.250000</td>\n",
              "      <td>1017.750000</td>\n",
              "      <td>1299.500000</td>\n",
              "      <td>1269.000000</td>\n",
              "      <td>630.000000</td>\n",
              "      <td>1256.500000</td>\n",
              "      <td>1431.000000</td>\n",
              "      <td>1576.25000</td>\n",
              "      <td>...</td>\n",
              "      <td>1532.500000</td>\n",
              "      <td>1540.750000</td>\n",
              "      <td>1496.500000</td>\n",
              "      <td>2109.000000</td>\n",
              "      <td>998.750000</td>\n",
              "      <td>1465.000000</td>\n",
              "      <td>1438.250000</td>\n",
              "      <td>1489.750000</td>\n",
              "      <td>698.750000</td>\n",
              "      <td>1360.750000</td>\n",
              "    </tr>\n",
              "    <tr>\n",
              "      <th>max</th>\n",
              "      <td>943.000000</td>\n",
              "      <td>1149.000000</td>\n",
              "      <td>1549.000000</td>\n",
              "      <td>1120.000000</td>\n",
              "      <td>1388.000000</td>\n",
              "      <td>1385.000000</td>\n",
              "      <td>699.000000</td>\n",
              "      <td>1309.000000</td>\n",
              "      <td>1557.000000</td>\n",
              "      <td>1694.00000</td>\n",
              "      <td>...</td>\n",
              "      <td>1661.000000</td>\n",
              "      <td>1683.000000</td>\n",
              "      <td>1693.000000</td>\n",
              "      <td>2310.000000</td>\n",
              "      <td>1079.000000</td>\n",
              "      <td>1542.000000</td>\n",
              "      <td>1548.000000</td>\n",
              "      <td>1610.000000</td>\n",
              "      <td>769.000000</td>\n",
              "      <td>1441.000000</td>\n",
              "    </tr>\n",
              "  </tbody>\n",
              "</table>\n",
              "<p>8 rows × 38 columns</p>\n",
              "</div>\n",
              "      <button class=\"colab-df-convert\" onclick=\"convertToInteractive('df-1bcf484a-de9c-4f73-b56c-0800a5862f0b')\"\n",
              "              title=\"Convert this dataframe to an interactive table.\"\n",
              "              style=\"display:none;\">\n",
              "        \n",
              "  <svg xmlns=\"http://www.w3.org/2000/svg\" height=\"24px\"viewBox=\"0 0 24 24\"\n",
              "       width=\"24px\">\n",
              "    <path d=\"M0 0h24v24H0V0z\" fill=\"none\"/>\n",
              "    <path d=\"M18.56 5.44l.94 2.06.94-2.06 2.06-.94-2.06-.94-.94-2.06-.94 2.06-2.06.94zm-11 1L8.5 8.5l.94-2.06 2.06-.94-2.06-.94L8.5 2.5l-.94 2.06-2.06.94zm10 10l.94 2.06.94-2.06 2.06-.94-2.06-.94-.94-2.06-.94 2.06-2.06.94z\"/><path d=\"M17.41 7.96l-1.37-1.37c-.4-.4-.92-.59-1.43-.59-.52 0-1.04.2-1.43.59L10.3 9.45l-7.72 7.72c-.78.78-.78 2.05 0 2.83L4 21.41c.39.39.9.59 1.41.59.51 0 1.02-.2 1.41-.59l7.78-7.78 2.81-2.81c.8-.78.8-2.07 0-2.86zM5.41 20L4 18.59l7.72-7.72 1.47 1.35L5.41 20z\"/>\n",
              "  </svg>\n",
              "      </button>\n",
              "      \n",
              "  <style>\n",
              "    .colab-df-container {\n",
              "      display:flex;\n",
              "      flex-wrap:wrap;\n",
              "      gap: 12px;\n",
              "    }\n",
              "\n",
              "    .colab-df-convert {\n",
              "      background-color: #E8F0FE;\n",
              "      border: none;\n",
              "      border-radius: 50%;\n",
              "      cursor: pointer;\n",
              "      display: none;\n",
              "      fill: #1967D2;\n",
              "      height: 32px;\n",
              "      padding: 0 0 0 0;\n",
              "      width: 32px;\n",
              "    }\n",
              "\n",
              "    .colab-df-convert:hover {\n",
              "      background-color: #E2EBFA;\n",
              "      box-shadow: 0px 1px 2px rgba(60, 64, 67, 0.3), 0px 1px 3px 1px rgba(60, 64, 67, 0.15);\n",
              "      fill: #174EA6;\n",
              "    }\n",
              "\n",
              "    [theme=dark] .colab-df-convert {\n",
              "      background-color: #3B4455;\n",
              "      fill: #D2E3FC;\n",
              "    }\n",
              "\n",
              "    [theme=dark] .colab-df-convert:hover {\n",
              "      background-color: #434B5C;\n",
              "      box-shadow: 0px 1px 3px 1px rgba(0, 0, 0, 0.15);\n",
              "      filter: drop-shadow(0px 1px 2px rgba(0, 0, 0, 0.3));\n",
              "      fill: #FFFFFF;\n",
              "    }\n",
              "  </style>\n",
              "\n",
              "      <script>\n",
              "        const buttonEl =\n",
              "          document.querySelector('#df-1bcf484a-de9c-4f73-b56c-0800a5862f0b button.colab-df-convert');\n",
              "        buttonEl.style.display =\n",
              "          google.colab.kernel.accessAllowed ? 'block' : 'none';\n",
              "\n",
              "        async function convertToInteractive(key) {\n",
              "          const element = document.querySelector('#df-1bcf484a-de9c-4f73-b56c-0800a5862f0b');\n",
              "          const dataTable =\n",
              "            await google.colab.kernel.invokeFunction('convertToInteractive',\n",
              "                                                     [key], {});\n",
              "          if (!dataTable) return;\n",
              "\n",
              "          const docLinkHtml = 'Like what you see? Visit the ' +\n",
              "            '<a target=\"_blank\" href=https://colab.research.google.com/notebooks/data_table.ipynb>data table notebook</a>'\n",
              "            + ' to learn more about interactive tables.';\n",
              "          element.innerHTML = '';\n",
              "          dataTable['output_type'] = 'display_data';\n",
              "          await google.colab.output.renderOutput(dataTable, element);\n",
              "          const docLink = document.createElement('div');\n",
              "          docLink.innerHTML = docLinkHtml;\n",
              "          element.appendChild(docLink);\n",
              "        }\n",
              "      </script>\n",
              "    </div>\n",
              "  </div>\n",
              "  "
            ],
            "text/plain": [
              "              1_x          1_y          2_x          2_y          3_x  \\\n",
              "count  150.000000   150.000000   150.000000   150.000000   150.000000   \n",
              "mean   806.620000  1040.666667  1389.500000   970.080000  1265.333333   \n",
              "std     45.254637    48.252088    61.929463    70.761109    48.841569   \n",
              "min    705.000000   886.000000  1218.000000   732.000000  1149.000000   \n",
              "25%    773.250000  1011.000000  1348.250000   925.500000  1233.500000   \n",
              "50%    808.500000  1043.000000  1388.000000   971.500000  1264.000000   \n",
              "75%    835.000000  1071.750000  1435.250000  1017.750000  1299.500000   \n",
              "max    943.000000  1149.000000  1549.000000  1120.000000  1388.000000   \n",
              "\n",
              "               3_y         4_x          4_y          5_x         5_y  ...  \\\n",
              "count   150.000000  150.000000   150.000000   150.000000   150.00000  ...   \n",
              "mean   1225.913333  605.106667  1222.773333  1388.153333  1525.34000  ...   \n",
              "std      62.747276   37.385018    39.864560    67.234513    70.38712  ...   \n",
              "min    1032.000000  514.000000  1136.000000  1241.000000  1328.00000  ...   \n",
              "25%    1188.000000  581.250000  1201.250000  1338.250000  1486.50000  ...   \n",
              "50%    1222.000000  605.500000  1217.500000  1384.000000  1524.50000  ...   \n",
              "75%    1269.000000  630.000000  1256.500000  1431.000000  1576.25000  ...   \n",
              "max    1385.000000  699.000000  1309.000000  1557.000000  1694.00000  ...   \n",
              "\n",
              "              15_x         15_y         16_x         16_y         17_x  \\\n",
              "count   150.000000   150.000000   150.000000   150.000000   150.000000   \n",
              "mean   1495.840000  1496.673333  1426.593333  2053.453333   968.246667   \n",
              "std      65.885612    79.239548    99.553506    91.408192    46.326669   \n",
              "min    1319.000000  1261.000000  1175.000000  1842.000000   832.000000   \n",
              "25%    1453.250000  1446.750000  1363.250000  1997.250000   940.250000   \n",
              "50%    1489.000000  1498.000000  1428.500000  2054.000000   966.000000   \n",
              "75%    1532.500000  1540.750000  1496.500000  2109.000000   998.750000   \n",
              "max    1661.000000  1683.000000  1693.000000  2310.000000  1079.000000   \n",
              "\n",
              "              17_y         18_x         18_y        19_x         19_y  \n",
              "count   150.000000   150.000000   150.000000  150.000000   150.000000  \n",
              "mean   1429.100000  1397.966667  1444.993333  669.806667  1328.546667  \n",
              "std      52.568492    60.893946    74.911715   39.209932    45.256107  \n",
              "min    1279.000000  1255.000000  1231.000000  571.000000  1212.000000  \n",
              "25%    1394.250000  1353.000000  1398.000000  643.000000  1298.000000  \n",
              "50%    1430.000000  1390.500000  1446.000000  669.000000  1340.000000  \n",
              "75%    1465.000000  1438.250000  1489.750000  698.750000  1360.750000  \n",
              "max    1542.000000  1548.000000  1610.000000  769.000000  1441.000000  \n",
              "\n",
              "[8 rows x 38 columns]"
            ]
          },
          "execution_count": 45,
          "metadata": {},
          "output_type": "execute_result"
        }
      ],
      "source": [
        "import pandas as pd\n",
        "df = pd.read_csv(\"/content/drive/MyDrive/variables/train_senior.csv\")\n",
        "d = pd.DataFrame(df)\n",
        "d.describe()"
      ]
    },
    {
      "cell_type": "code",
      "execution_count": null,
      "metadata": {
        "id": "7vhS-fMghunO"
      },
      "outputs": [],
      "source": [
        "trial7 = cv2.cvtColor(cv2.imread(\"/content/drive/MyDrive/data/cepha400/007.jpg\"),cv2.COLOR_BGR2GRAY)\n",
        "equ7 = cv2.equalizeHist(trial7)\n",
        "temp1.append(trial7)"
      ]
    },
    {
      "cell_type": "code",
      "execution_count": 142,
      "metadata": {
        "colab": {
          "base_uri": "https://localhost:8080/"
        },
        "id": "1Fgs8AK0huqk",
        "outputId": "b9b5387f-420f-4958-ea29-b57dfbe1ac18"
      },
      "outputs": [
        {
          "data": {
            "text/plain": [
              "array([[[249, 249, 249],\n",
              "        [249, 249, 249],\n",
              "        [249, 249, 249],\n",
              "        ...,\n",
              "        [252, 252, 252],\n",
              "        [248, 248, 248],\n",
              "        [  0,   0,   0]],\n",
              "\n",
              "       [[249, 249, 249],\n",
              "        [249, 249, 249],\n",
              "        [249, 249, 249],\n",
              "        ...,\n",
              "        [252, 252, 252],\n",
              "        [248, 248, 248],\n",
              "        [  0,   0,   0]],\n",
              "\n",
              "       [[249, 249, 249],\n",
              "        [249, 249, 249],\n",
              "        [249, 249, 249],\n",
              "        ...,\n",
              "        [252, 252, 252],\n",
              "        [248, 248, 248],\n",
              "        [  0,   0,   0]],\n",
              "\n",
              "       ...,\n",
              "\n",
              "       [[250, 250, 250],\n",
              "        [250, 250, 250],\n",
              "        [250, 250, 250],\n",
              "        ...,\n",
              "        [198, 198, 198],\n",
              "        [199, 199, 199],\n",
              "        [ 12,  12,  12]],\n",
              "\n",
              "       [[247, 247, 247],\n",
              "        [247, 247, 247],\n",
              "        [247, 247, 247],\n",
              "        ...,\n",
              "        [204, 204, 204],\n",
              "        [184, 184, 184],\n",
              "        [ 26,  26,  26]],\n",
              "\n",
              "       [[  1,   1,   1],\n",
              "        [  1,   1,   1],\n",
              "        [  1,   1,   1],\n",
              "        ...,\n",
              "        [  0,   0,   0],\n",
              "        [ 17,  17,  17],\n",
              "        [  0,   0,   0]]], dtype=uint8)"
            ]
          },
          "execution_count": 142,
          "metadata": {},
          "output_type": "execute_result"
        }
      ],
      "source": [
        "img = cv2.imread('/content/drive/MyDrive/data/cepha400/033.jpg')\n",
        "test = cv2.imread('/content/drive/MyDrive/data/cepha400/033.jpg',0)\n",
        "from scipy import signal\n",
        "test = cv2.equalizeHist(test)\n",
        "window = test[1705:1905, 1311:1511]\n",
        "result = signal.correlate2d(window,temp_land_11, boundary='symm', mode='same')\n",
        "y, x = np.unravel_index(np.argmax(result), result.shape)\n",
        "cv2.circle(img,(x+800,y+950), 5, (0,0,255), -1)\n",
        "cv2.circle(img,(1411,1805), 5,  (255,0,0), -1)"
      ]
    },
    {
      "cell_type": "code",
      "execution_count": null,
      "metadata": {
        "colab": {
          "base_uri": "https://localhost:8080/",
          "height": 1000
        },
        "id": "1be24Qt0hu5b",
        "outputId": "06be7c40-09ee-445e-a607-a957c1dba0ec"
      },
      "outputs": [],
      "source": [
        "print( x,y)\n",
        "cv2_imshow(img)\n"
      ]
    },
    {
      "cell_type": "code",
      "execution_count": null,
      "metadata": {
        "id": "DdJCHLrploDN"
      },
      "outputs": [],
      "source": [
        "test = cv2.imread('/content/drive/MyDrive/data/cepha400/033.jpg',0)\n"
      ]
    },
    {
      "cell_type": "code",
      "execution_count": null,
      "metadata": {
        "colab": {
          "base_uri": "https://localhost:8080/"
        },
        "id": "t3XVwHnKeD6e",
        "outputId": "8b750745-eb98-4c5f-aca1-f10e6c7d7421"
      },
      "outputs": [
        {
          "data": {
            "text/plain": [
              "count     150.000000\n",
              "mean     1839.313333\n",
              "std        78.558416\n",
              "min      1636.000000\n",
              "25%      1790.250000\n",
              "50%      1839.500000\n",
              "75%      1886.750000\n",
              "max      2019.000000\n",
              "Name: 6_y, dtype: float64"
            ]
          },
          "execution_count": 48,
          "metadata": {},
          "output_type": "execute_result"
        }
      ],
      "source": [
        "Df1 = pd.DataFrame(d.describe())\n",
        "Df1[\"6_y\"]"
      ]
    }
  ],
  "metadata": {
    "colab": {
      "collapsed_sections": [],
      "provenance": []
    },
    "kernelspec": {
      "display_name": "Python 3.10.8 64-bit",
      "language": "python",
      "name": "python3"
    },
    "language_info": {
      "name": "python",
      "version": "3.10.8 (tags/v3.10.8:aaaf517, Oct 11 2022, 16:50:30) [MSC v.1933 64 bit (AMD64)]"
    },
    "vscode": {
      "interpreter": {
        "hash": "0cbafac71284a3c1b6ecd471b2c4d44e2958cd6e63d111f9c8cc94ecbc5daccc"
      }
    }
  },
  "nbformat": 4,
  "nbformat_minor": 0
}
